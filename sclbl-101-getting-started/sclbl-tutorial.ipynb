{
 "cells": [
  {
   "cell_type": "markdown",
   "metadata": {},
   "source": [
    "# Simple analysis of developer_survey data\n",
    "\n",
    "*Disclaimer:* This notebook provides a simple analysis of the publicly available \"stackoverflow survey data\" (which can be found [here](https://insights.stackoverflow.com/survey)) to create a rudimentary model to predict the yearly income of various technical jobs based on age, experience, and activities. Subsequently, we use this model to demonstrate the ease-of-use of [Scailable](https://www.scailable.net) for putting models in production.\n",
    "\n",
    "The data cleaning process, as well as the created model, are **rudimentary**; the current notebook does not aim to provide a thorough analysis of the survey data nor do we claim that the resulting model is, at all, accurate in predicting salaries. Actually, it should be relatively easy to improve upon the model we present here and we leave that up to the reader. \n",
    "\n",
    "The aim of the current document is to showcase the simple deployment functionality of fitted models directly from `python` provided by [Scailable](https://www.scailable.net); feel free to improve the presented model and open up your own endpoint!\n",
    "\n",
    "This document supports the [Scailable 101 - getting started demo](https://github.com/scailable/sclbl-tutorials/tree/master/sclbl-101-getting-started)."
   ]
  },
  {
   "cell_type": "markdown",
   "metadata": {},
   "source": [
    "## Preliminaries\n",
    "We first install some of the packages neccesary; skip this step if you have these already. "
   ]
  },
  {
   "cell_type": "code",
   "execution_count": 1,
   "metadata": {},
   "outputs": [],
   "source": [
    "# Install packages, uncomment if you still need any of these...\n",
    "\n",
    "#!pip3 install numpy\n",
    "#!pip3 install pandas\n",
    "#!pip3 install sklearn\n",
    "#!pip3 install matplotlib"
   ]
  },
  {
   "cell_type": "markdown",
   "metadata": {},
   "source": [
    "Next, we open the data:"
   ]
  },
  {
   "cell_type": "code",
   "execution_count": 1,
   "metadata": {
    "scrolled": true
   },
   "outputs": [],
   "source": [
    "# Import neccesary packages for data cleaning and plotting\n",
    "import pandas as pd\n",
    "import matplotlib.pyplot as plt\n",
    "\n",
    "# Unzip the file (as it was too big to upload to github)\n",
    "from zipfile import ZipFile\n",
    "with ZipFile(\"developer_survey_2019/survey_results_public.csv.zip\", 'r') as zipObj:\n",
    "   # Extract all the contents of zip file in current directory\n",
    "   zipObj.extractall(\"data\")"
   ]
  },
  {
   "cell_type": "code",
   "execution_count": 9,
   "metadata": {},
   "outputs": [],
   "source": [
    "# Import the data file\n",
    "df = pd.read_csv(\"data/survey_results_public.csv\")"
   ]
  },
  {
   "cell_type": "code",
   "execution_count": 10,
   "metadata": {},
   "outputs": [
    {
     "name": "stdout",
     "output_type": "stream",
     "text": [
      "(88883, 85)\n",
      "['Respondent', 'MainBranch', 'Hobbyist', 'OpenSourcer', 'OpenSource', 'Employment', 'Country', 'Student', 'EdLevel', 'UndergradMajor', 'EduOther', 'OrgSize', 'DevType', 'YearsCode', 'Age1stCode', 'YearsCodePro', 'CareerSat', 'JobSat', 'MgrIdiot', 'MgrMoney', 'MgrWant', 'JobSeek', 'LastHireDate', 'LastInt', 'FizzBuzz', 'JobFactors', 'ResumeUpdate', 'CurrencySymbol', 'CurrencyDesc', 'CompTotal', 'CompFreq', 'ConvertedComp', 'WorkWeekHrs', 'WorkPlan', 'WorkChallenge', 'WorkRemote', 'WorkLoc', 'ImpSyn', 'CodeRev', 'CodeRevHrs', 'UnitTests', 'PurchaseHow', 'PurchaseWhat', 'LanguageWorkedWith', 'LanguageDesireNextYear', 'DatabaseWorkedWith', 'DatabaseDesireNextYear', 'PlatformWorkedWith', 'PlatformDesireNextYear', 'WebFrameWorkedWith', 'WebFrameDesireNextYear', 'MiscTechWorkedWith', 'MiscTechDesireNextYear', 'DevEnviron', 'OpSys', 'Containers', 'BlockchainOrg', 'BlockchainIs', 'BetterLife', 'ITperson', 'OffOn', 'SocialMedia', 'Extraversion', 'ScreenName', 'SOVisit1st', 'SOVisitFreq', 'SOVisitTo', 'SOFindAnswer', 'SOTimeSaved', 'SOHowMuchTime', 'SOAccount', 'SOPartFreq', 'SOJobs', 'EntTeams', 'SOComm', 'WelcomeChange', 'SONewContent', 'Age', 'Gender', 'Trans', 'Sexuality', 'Ethnicity', 'Dependents', 'SurveyLength', 'SurveyEase']\n"
     ]
    }
   ],
   "source": [
    "# Print its initial shape\n",
    "print(df.shape)\n",
    "\n",
    "# And the columns\n",
    "print(list(df))"
   ]
  },
  {
   "cell_type": "markdown",
   "metadata": {},
   "source": [
    "## Cleaning and feature engineering\n",
    "We are interested in predicting the yearly salary (in the variable `ConvertedComp`), but this contains zero's, missings, and some -- we would say -- implausible values. So, we clean it up.\n",
    "\n",
    "Next, we create the features we are interested in for predicting the yearly salary. These are:\n",
    "\n",
    "* `OpenSourcer`\n",
    "* `Employment`\n",
    "* `EdLevel`\n",
    "* `OrgSize`\n",
    "* `DevType`\n",
    "* `YearsCode`\n",
    "* `YearsCodePro`\n",
    "* `MgrWant`\n",
    "* `LanguageWorkedWith`\n",
    "* `Age`\n",
    "* `Gender`\n",
    "\n",
    "> Note: This is a somewhat arbitrary subset of variables, but these might work well for a first model; please feel free to extend!"
   ]
  },
  {
   "cell_type": "markdown",
   "metadata": {},
   "source": [
    "### Main outcome: Yearly income\n",
    "First, we somewhat clean up the `ConvertedComp` variable which should describe the standardized yearly income. We remove NAs, 0s, and the few very high values as these seem to be outliers."
   ]
  },
  {
   "cell_type": "code",
   "execution_count": 11,
   "metadata": {},
   "outputs": [
    {
     "name": "stdout",
     "output_type": "stream",
     "text": [
      "(53948, 85)\n"
     ]
    }
   ],
   "source": [
    "# Drop 0 and NA:\n",
    "df = df[(df['ConvertedComp'] > 0)]\n",
    "df = df.dropna(subset=['ConvertedComp'])\n",
    "\n",
    "# Drop > 999999\n",
    "df = df[(df['ConvertedComp'] < 999999)]\n",
    "\n",
    "# So, we now have:\n",
    "print(df.shape)"
   ]
  },
  {
   "cell_type": "code",
   "execution_count": 12,
   "metadata": {},
   "outputs": [
    {
     "data": {
      "text/plain": [
       "(array([14757., 12464., 10288.,  6222.,  3553.,  2184.,  1060.,   684.,\n",
       "          284.,   273.,   186.,   108.,   123.,    87.,   118.,    71.,\n",
       "           90.,    67.,    80.,   103.,    62.,    71.,    98.,    89.,\n",
       "           77.,    79.,    61.,    72.,   104.,    70.,    53.,    75.,\n",
       "           59.,    61.,    76.,    39.]),\n",
       " array([1.00000000e+00, 2.77279722e+04, 5.54549444e+04, 8.31819167e+04,\n",
       "        1.10908889e+05, 1.38635861e+05, 1.66362833e+05, 1.94089806e+05,\n",
       "        2.21816778e+05, 2.49543750e+05, 2.77270722e+05, 3.04997694e+05,\n",
       "        3.32724667e+05, 3.60451639e+05, 3.88178611e+05, 4.15905583e+05,\n",
       "        4.43632556e+05, 4.71359528e+05, 4.99086500e+05, 5.26813472e+05,\n",
       "        5.54540444e+05, 5.82267417e+05, 6.09994389e+05, 6.37721361e+05,\n",
       "        6.65448333e+05, 6.93175306e+05, 7.20902278e+05, 7.48629250e+05,\n",
       "        7.76356222e+05, 8.04083194e+05, 8.31810167e+05, 8.59537139e+05,\n",
       "        8.87264111e+05, 9.14991083e+05, 9.42718056e+05, 9.70445028e+05,\n",
       "        9.98172000e+05]),\n",
       " <a list of 36 Patch objects>)"
      ]
     },
     "execution_count": 12,
     "metadata": {},
     "output_type": "execute_result"
    },
    {
     "data": {
      "image/png": "[encoded data removed]",
      "text/plain": [
       "<Figure size 432x288 with 1 Axes>"
      ]
     },
     "metadata": {
      "needs_background": "light"
     },
     "output_type": "display_data"
    }
   ],
   "source": [
    "# Let's plot again\n",
    "plt.hist(df['ConvertedComp'], color = 'blue', edgecolor = 'black',\n",
    "         bins = int(180/5))"
   ]
  },
  {
   "cell_type": "code",
   "execution_count": 13,
   "metadata": {},
   "outputs": [],
   "source": [
    "# and lets create a new variable with a more sensible name:\n",
    "df['salary'] = df['ConvertedComp']"
   ]
  },
  {
   "cell_type": "markdown",
   "metadata": {},
   "source": [
    "### Feature engineering\n",
    "Next, we clean up the features of interest one by one, starting with `OpenSourcer`. This variable current has four levels (`Less than once a month but more than once per year`, `Less than once per year`, `Never`, and `Once a month or more often`). We will recode it such that a 1 indicates that a respondent often contributes to open source projects, 0 otherwise. \n",
    "\n",
    "> We will prefix the features we custom build by `f_`"
   ]
  },
  {
   "cell_type": "code",
   "execution_count": 14,
   "metadata": {},
   "outputs": [
    {
     "data": {
      "text/plain": [
       "0    47782\n",
       "1     6166\n",
       "Name: f_open, dtype: int64"
      ]
     },
     "execution_count": 14,
     "metadata": {},
     "output_type": "execute_result"
    }
   ],
   "source": [
    "# define\n",
    "def open_dummy(series):\n",
    "    if series == \"Once a month or more often\":\n",
    "        return 1\n",
    "    else:\n",
    "        return 0\n",
    "\n",
    "# recode:\n",
    "df['f_open'] = df['OpenSourcer'].apply(open_dummy)\n",
    "\n",
    "# inspect:\n",
    "df['f_open'].value_counts(sort=False)"
   ]
  },
  {
   "cell_type": "markdown",
   "metadata": {},
   "source": [
    "We will change `Employment` to indicate `employed`, `selfemployed`, or `unemployed` and create dummies."
   ]
  },
  {
   "cell_type": "code",
   "execution_count": 15,
   "metadata": {},
   "outputs": [
    {
     "name": "stdout",
     "output_type": "stream",
     "text": [
      "f_unemployed        129\n",
      "f_employed        49439\n",
      "f_selfemployed     4380\n",
      "Name: employmentStatus, dtype: int64\n",
      "   f_employed  f_selfemployed  f_unemployed\n",
      "2           1               0             0\n",
      "3           1               0             0\n",
      "5           1               0             0\n",
      "8           1               0             0\n",
      "9           1               0             0\n",
      "['Respondent', 'MainBranch', 'Hobbyist', 'OpenSourcer', 'OpenSource', 'Employment', 'Country', 'Student', 'EdLevel', 'UndergradMajor', 'EduOther', 'OrgSize', 'DevType', 'YearsCode', 'Age1stCode', 'YearsCodePro', 'CareerSat', 'JobSat', 'MgrIdiot', 'MgrMoney', 'MgrWant', 'JobSeek', 'LastHireDate', 'LastInt', 'FizzBuzz', 'JobFactors', 'ResumeUpdate', 'CurrencySymbol', 'CurrencyDesc', 'CompTotal', 'CompFreq', 'ConvertedComp', 'WorkWeekHrs', 'WorkPlan', 'WorkChallenge', 'WorkRemote', 'WorkLoc', 'ImpSyn', 'CodeRev', 'CodeRevHrs', 'UnitTests', 'PurchaseHow', 'PurchaseWhat', 'LanguageWorkedWith', 'LanguageDesireNextYear', 'DatabaseWorkedWith', 'DatabaseDesireNextYear', 'PlatformWorkedWith', 'PlatformDesireNextYear', 'WebFrameWorkedWith', 'WebFrameDesireNextYear', 'MiscTechWorkedWith', 'MiscTechDesireNextYear', 'DevEnviron', 'OpSys', 'Containers', 'BlockchainOrg', 'BlockchainIs', 'BetterLife', 'ITperson', 'OffOn', 'SocialMedia', 'Extraversion', 'ScreenName', 'SOVisit1st', 'SOVisitFreq', 'SOVisitTo', 'SOFindAnswer', 'SOTimeSaved', 'SOHowMuchTime', 'SOAccount', 'SOPartFreq', 'SOJobs', 'EntTeams', 'SOComm', 'WelcomeChange', 'SONewContent', 'Age', 'Gender', 'Trans', 'Sexuality', 'Ethnicity', 'Dependents', 'SurveyLength', 'SurveyEase', 'salary', 'f_open', 'employmentStatus', 'f_employed', 'f_selfemployed', 'f_unemployed']\n"
     ]
    }
   ],
   "source": [
    "# define\n",
    "def employment_status(series):\n",
    "    if series == \"Employed full-time\" or series == \"Employed part-time\":\n",
    "        return \"f_employed\"\n",
    "    elif series == \"Independent contractor, freelancer, or self-employed\":\n",
    "        return \"f_selfemployed\"\n",
    "    else:\n",
    "        return \"f_unemployed\"\n",
    "\n",
    "# recode:\n",
    "df['employmentStatus'] = df['Employment'].apply(employment_status)\n",
    "\n",
    "# inspect:\n",
    "print(df['employmentStatus'].value_counts(sort=False))\n",
    "\n",
    "# create dummies:\n",
    "employmentDummies = pd.get_dummies(df['employmentStatus'])\n",
    "print(employmentDummies.head())\n",
    "\n",
    "# add to df:\n",
    "df = df.join(employmentDummies)\n",
    "print(list(df))"
   ]
  },
  {
   "cell_type": "markdown",
   "metadata": {},
   "source": [
    "Now lets look at `EdLevel` and recode..."
   ]
  },
  {
   "cell_type": "code",
   "execution_count": 16,
   "metadata": {},
   "outputs": [
    {
     "name": "stdout",
     "output_type": "stream",
     "text": [
      "0    12107\n",
      "1    26038\n",
      "2    15803\n",
      "Name: f_education, dtype: int64\n"
     ]
    }
   ],
   "source": [
    "# define\n",
    "def education_level(series):\n",
    "    if series == \"Master’s degree (MA, MS, M.Eng., MBA, etc.)\" or series == \"Other doctoral degree (Ph.D, Ed.D., etc.)\" or series == \"Professional degree (JD, MD, etc.)\":\n",
    "        return 2\n",
    "    elif series == \"Bachelor’s degree (BA, BS, B.Eng., etc.)\":\n",
    "        return 1\n",
    "    else:\n",
    "        return 0\n",
    "\n",
    "# recode:\n",
    "df['f_education'] = df['EdLevel'].apply(education_level)\n",
    "\n",
    "# inspect:\n",
    "print(df['f_education'].value_counts(sort=False))"
   ]
  },
  {
   "cell_type": "markdown",
   "metadata": {},
   "source": [
    "Ok, now we are over to `OrgSize`... let's just to small `<500 employees` and large...."
   ]
  },
  {
   "cell_type": "code",
   "execution_count": 17,
   "metadata": {},
   "outputs": [
    {
     "name": "stdout",
     "output_type": "stream",
     "text": [
      "0    35022\n",
      "1    18926\n",
      "Name: f_organization, dtype: int64\n"
     ]
    }
   ],
   "source": [
    "# define\n",
    "def organization_size(series):\n",
    "    if series == \"500 to 999 employees\" or series == \"1,000 to 4,999 employees\" or series == \"5,000 to 9,999 employees\" or series == \"10,000 or more employees\":\n",
    "        return 1\n",
    "    else:\n",
    "        return 0\n",
    "\n",
    "# recode:\n",
    "df['f_organization'] = df['OrgSize'].apply(organization_size)\n",
    "\n",
    "# inspect:\n",
    "print(df['f_organization'].value_counts(sort=False))"
   ]
  },
  {
   "cell_type": "markdown",
   "metadata": {},
   "source": [
    "Ok, `DevType` is a bit more tricky as it contains multiple answers in a string that is comma-seperated. Let's pick out a few interesting ones: `datascientist`, `designer`, `developer`, `devops`, `engineer`, and `scientist`."
   ]
  },
  {
   "cell_type": "code",
   "execution_count": 18,
   "metadata": {},
   "outputs": [
    {
     "name": "stdout",
     "output_type": "stream",
     "text": [
      "0    49906\n",
      "1     4042\n",
      "Name: f_datascientist, dtype: int64\n",
      "0    48820\n",
      "1     5128\n",
      "Name: f_designer, dtype: int64\n",
      "0     4813\n",
      "1    49135\n",
      "Name: f_developer, dtype: int64\n",
      "0    47309\n",
      "1     6639\n",
      "Name: f_devops, dtype: int64\n",
      "0    46456\n",
      "1     7492\n",
      "Name: f_engineer, dtype: int64\n",
      "0    51804\n",
      "1     2144\n",
      "Name: f_scientist, dtype: int64\n"
     ]
    }
   ],
   "source": [
    "def datascience_present(series):\n",
    "    if \"Data scientist\" in str(series):\n",
    "        return 1\n",
    "    else:\n",
    "        return 0\n",
    "\n",
    "def designer_present(series):\n",
    "    if \"Designer\" in str(series):\n",
    "        return 1\n",
    "    else:\n",
    "        return 0\n",
    "\n",
    "def developer_present(series):\n",
    "    if \"Developer\" in str(series):\n",
    "        return 1\n",
    "    else:\n",
    "        return 0\n",
    "\n",
    "def devops_present(series):\n",
    "    if \"DevOps\" in str(series):\n",
    "        return 1\n",
    "    else:\n",
    "        return 0\n",
    "    \n",
    "def engineer_present(series):\n",
    "    if \"Engineer\" in str(series):\n",
    "        return 1\n",
    "    else:\n",
    "        return 0\n",
    "\n",
    "def scientist_present(series):\n",
    "    if \"Scientist\" in str(series):\n",
    "        return 1\n",
    "    else:\n",
    "        return 0\n",
    "    \n",
    "# recode:\n",
    "df['f_datascientist'] = df['DevType'].apply(datascience_present)\n",
    "df['f_designer'] = df['DevType'].apply(designer_present)\n",
    "df['f_developer'] = df['DevType'].apply(developer_present)\n",
    "df['f_devops'] = df['DevType'].apply(devops_present)\n",
    "df['f_engineer'] = df['DevType'].apply(engineer_present)\n",
    "df['f_scientist'] = df['DevType'].apply(scientist_present)\n",
    "\n",
    "# inspect:\n",
    "print(df['f_datascientist'].value_counts(sort=False))\n",
    "print(df['f_designer'].value_counts(sort=False))\n",
    "print(df['f_developer'].value_counts(sort=False))\n",
    "print(df['f_devops'].value_counts(sort=False))\n",
    "print(df['f_engineer'].value_counts(sort=False))\n",
    "print(df['f_scientist'].value_counts(sort=False))"
   ]
  },
  {
   "cell_type": "markdown",
   "metadata": {},
   "source": [
    "The `YearsCode` variable is simple, but let's convert to int and inspect it:"
   ]
  },
  {
   "cell_type": "code",
   "execution_count": 19,
   "metadata": {},
   "outputs": [
    {
     "name": "stdout",
     "output_type": "stream",
     "text": [
      "0      256\n",
      "16    1198\n",
      "50      21\n",
      "3     2082\n",
      "9     2330\n",
      "6     3737\n",
      "18    1412\n",
      "26     294\n",
      "45      54\n",
      "8     3590\n",
      "27     295\n",
      "28     314\n",
      "50      16\n",
      "42      71\n",
      "4     2645\n",
      "31     140\n",
      "30     994\n",
      "10    4757\n",
      "29     165\n",
      "7     3401\n",
      "11    1673\n",
      "25    1122\n",
      "12    2581\n",
      "33     234\n",
      "39     106\n",
      "1      418\n",
      "22     771\n",
      "17    1046\n",
      "2     1272\n",
      "47      16\n",
      "48      17\n",
      "15    2899\n",
      "20    2602\n",
      "35     560\n",
      "44      35\n",
      "40     298\n",
      "21     537\n",
      "43      48\n",
      "46      10\n",
      "19     753\n",
      "23     542\n",
      "24     470\n",
      "41      56\n",
      "37     232\n",
      "36     205\n",
      "14    1586\n",
      "32     285\n",
      "38     222\n",
      "5     3824\n",
      "13    1537\n",
      "49      12\n",
      "34     207\n",
      "Name: f_years, dtype: int64\n"
     ]
    },
    {
     "data": {
      "text/plain": [
       "count    53948.000000\n",
       "mean        12.776155\n",
       "std          8.760562\n",
       "min          0.000000\n",
       "25%          6.000000\n",
       "50%         10.000000\n",
       "75%         17.000000\n",
       "max         50.000000\n",
       "Name: f_years, dtype: float64"
      ]
     },
     "execution_count": 19,
     "metadata": {},
     "output_type": "execute_result"
    }
   ],
   "source": [
    "# define\n",
    "def years_code(series):\n",
    "    if series == \"Less than 1 year\" or pd.isna(series):\n",
    "        return 0\n",
    "    elif series == \"More than 50 years\":\n",
    "        return 50\n",
    "    else:\n",
    "        return series\n",
    "\n",
    "# recode:\n",
    "df['f_years'] = df['YearsCode'].apply(years_code)\n",
    "\n",
    "# inspect:\n",
    "print(df['f_years'].value_counts(sort=False))\n",
    "\n",
    "df['f_years'] = df['f_years'].astype(int)\n",
    "df['f_years'].describe()"
   ]
  },
  {
   "cell_type": "raw",
   "metadata": {},
   "source": [
    "`YearsCodePro` is very similar to `YearsCode`:"
   ]
  },
  {
   "cell_type": "code",
   "execution_count": 20,
   "metadata": {},
   "outputs": [
    {
     "name": "stdout",
     "output_type": "stream",
     "text": [
      "0     2706\n",
      "16     560\n",
      "50      12\n",
      "3     5753\n",
      "9     1527\n",
      "6     3429\n",
      "18     839\n",
      "26     134\n",
      "45       7\n",
      "8     2572\n",
      "27     126\n",
      "28     144\n",
      "50       4\n",
      "42      16\n",
      "4     4736\n",
      "31      72\n",
      "30     335\n",
      "10    3164\n",
      "29      89\n",
      "7     2743\n",
      "11    1305\n",
      "25     466\n",
      "12    1650\n",
      "33      82\n",
      "39      34\n",
      "1     3058\n",
      "22     492\n",
      "17     464\n",
      "2     5762\n",
      "47       3\n",
      "48       6\n",
      "15    1497\n",
      "20    1378\n",
      "35     140\n",
      "44       9\n",
      "40      62\n",
      "21     408\n",
      "43      14\n",
      "46       2\n",
      "19     554\n",
      "23     310\n",
      "24     210\n",
      "41      13\n",
      "37      46\n",
      "36      50\n",
      "14     849\n",
      "32     129\n",
      "38      52\n",
      "5     4829\n",
      "13    1035\n",
      "49       2\n",
      "34      69\n",
      "Name: f_yearspro, dtype: int64\n"
     ]
    },
    {
     "data": {
      "text/plain": [
       "count    53948.000000\n",
       "mean         7.951083\n",
       "std          7.254487\n",
       "min          0.000000\n",
       "25%          3.000000\n",
       "50%          6.000000\n",
       "75%         11.000000\n",
       "max         50.000000\n",
       "Name: f_yearspro, dtype: float64"
      ]
     },
     "execution_count": 20,
     "metadata": {},
     "output_type": "execute_result"
    }
   ],
   "source": [
    "# define\n",
    "def years_code_pro(series):\n",
    "    if series == \"Less than 1 year\" or pd.isna(series):\n",
    "        return 0\n",
    "    elif series == \"More than 50 years\":\n",
    "        return 50\n",
    "    else:\n",
    "        return series\n",
    "\n",
    "# recode:\n",
    "df['f_yearspro'] = df['YearsCodePro'].apply(years_code_pro)\n",
    "\n",
    "# inspect:\n",
    "print(df['f_yearspro'].value_counts(sort=False))\n",
    "\n",
    "df['f_yearspro'] = df['f_yearspro'].astype(int)\n",
    "df['f_yearspro'].describe()"
   ]
  },
  {
   "cell_type": "markdown",
   "metadata": {},
   "source": [
    "We include `MgrWant` as a (admittedly a bit weird) proxy for ambition:"
   ]
  },
  {
   "cell_type": "code",
   "execution_count": 21,
   "metadata": {},
   "outputs": [
    {
     "name": "stdout",
     "output_type": "stream",
     "text": [
      "0    42824\n",
      "1    11124\n",
      "Name: f_ambition, dtype: int64\n"
     ]
    }
   ],
   "source": [
    "# define\n",
    "def management(series):\n",
    "    if series == \"Yes\":\n",
    "        return 1\n",
    "    else:\n",
    "        return 0\n",
    "\n",
    "# recode:\n",
    "df['f_ambition'] = df['MgrWant'].apply(management)\n",
    "\n",
    "# inspect:\n",
    "print(df['f_ambition'].value_counts(sort=False))"
   ]
  },
  {
   "cell_type": "markdown",
   "metadata": {},
   "source": [
    "The variable `LanguageWorkedWith` is similar to `DevType` in the fact that it contains a bunch of different levels; we for now only pick out python and R."
   ]
  },
  {
   "cell_type": "code",
   "execution_count": 22,
   "metadata": {},
   "outputs": [
    {
     "name": "stdout",
     "output_type": "stream",
     "text": [
      "0    32670\n",
      "1    21278\n",
      "Name: f_python, dtype: int64\n",
      "0    51555\n",
      "1     2393\n",
      "Name: f_r, dtype: int64\n"
     ]
    }
   ],
   "source": [
    "def python_present(series):\n",
    "    if \"Python\" in str(series):\n",
    "        return 1\n",
    "    else:\n",
    "        return 0\n",
    "\n",
    "def R_present(series):\n",
    "    if \"R;\" in str(series):\n",
    "        return 1\n",
    "    else:\n",
    "        return 0\n",
    "\n",
    "    \n",
    "# recode:\n",
    "df['f_python'] = df['LanguageWorkedWith'].apply(python_present)\n",
    "df['f_r'] = df['LanguageWorkedWith'].apply(R_present)\n",
    "\n",
    "# inspect:\n",
    "print(df['f_python'].value_counts(sort=False))\n",
    "print(df['f_r'].value_counts(sort=False))"
   ]
  },
  {
   "cell_type": "markdown",
   "metadata": {},
   "source": [
    "Finally, age and gender are simple (although note that we do remove NAs and recode gender):"
   ]
  },
  {
   "cell_type": "code",
   "execution_count": 23,
   "metadata": {},
   "outputs": [
    {
     "name": "stdout",
     "output_type": "stream",
     "text": [
      "count    51730.000000\n",
      "mean        31.360990\n",
      "std          8.075272\n",
      "min          1.000000\n",
      "25%         26.000000\n",
      "50%         30.000000\n",
      "75%         35.000000\n",
      "max         99.000000\n",
      "Name: f_age, dtype: float64\n",
      "f_female     3648\n",
      "f_other       819\n",
      "f_male      47263\n",
      "Name: gender, dtype: int64\n",
      "    f_female  f_male  f_other\n",
      "2          0       1        0\n",
      "3          0       1        0\n",
      "5          0       1        0\n",
      "8          0       1        0\n",
      "12         0       1        0\n",
      "['Respondent', 'MainBranch', 'Hobbyist', 'OpenSourcer', 'OpenSource', 'Employment', 'Country', 'Student', 'EdLevel', 'UndergradMajor', 'EduOther', 'OrgSize', 'DevType', 'YearsCode', 'Age1stCode', 'YearsCodePro', 'CareerSat', 'JobSat', 'MgrIdiot', 'MgrMoney', 'MgrWant', 'JobSeek', 'LastHireDate', 'LastInt', 'FizzBuzz', 'JobFactors', 'ResumeUpdate', 'CurrencySymbol', 'CurrencyDesc', 'CompTotal', 'CompFreq', 'ConvertedComp', 'WorkWeekHrs', 'WorkPlan', 'WorkChallenge', 'WorkRemote', 'WorkLoc', 'ImpSyn', 'CodeRev', 'CodeRevHrs', 'UnitTests', 'PurchaseHow', 'PurchaseWhat', 'LanguageWorkedWith', 'LanguageDesireNextYear', 'DatabaseWorkedWith', 'DatabaseDesireNextYear', 'PlatformWorkedWith', 'PlatformDesireNextYear', 'WebFrameWorkedWith', 'WebFrameDesireNextYear', 'MiscTechWorkedWith', 'MiscTechDesireNextYear', 'DevEnviron', 'OpSys', 'Containers', 'BlockchainOrg', 'BlockchainIs', 'BetterLife', 'ITperson', 'OffOn', 'SocialMedia', 'Extraversion', 'ScreenName', 'SOVisit1st', 'SOVisitFreq', 'SOVisitTo', 'SOFindAnswer', 'SOTimeSaved', 'SOHowMuchTime', 'SOAccount', 'SOPartFreq', 'SOJobs', 'EntTeams', 'SOComm', 'WelcomeChange', 'SONewContent', 'Age', 'Gender', 'Trans', 'Sexuality', 'Ethnicity', 'Dependents', 'SurveyLength', 'SurveyEase', 'salary', 'f_open', 'employmentStatus', 'f_employed', 'f_selfemployed', 'f_unemployed', 'f_education', 'f_organization', 'f_datascientist', 'f_designer', 'f_developer', 'f_devops', 'f_engineer', 'f_scientist', 'f_years', 'f_yearspro', 'f_ambition', 'f_python', 'f_r', 'f_age', 'gender', 'f_female', 'f_male', 'f_other']\n"
     ]
    }
   ],
   "source": [
    "# Age\n",
    "df = df.dropna(subset=['Age'])\n",
    "df['f_age'] = df['Age'].astype(int)\n",
    "print(df['f_age'].describe())\n",
    "\n",
    "# Gender\n",
    "# define\n",
    "def gender(series):\n",
    "    if \"Man\" in str(series):\n",
    "        return \"f_male\"\n",
    "    elif \"Woman\" in str(series):\n",
    "        return \"f_female\"\n",
    "    else:\n",
    "        return \"f_other\"\n",
    "\n",
    "# recode:\n",
    "df['gender'] = df['Gender'].apply(gender)\n",
    "\n",
    "# inspect:\n",
    "print(df['gender'].value_counts(sort=False))\n",
    "\n",
    "# create dummies:\n",
    "genderDummies = pd.get_dummies(df['gender'])\n",
    "print(genderDummies.head())\n",
    "\n",
    "# add to df:\n",
    "df = df.join(genderDummies)\n",
    "print(list(df))"
   ]
  },
  {
   "cell_type": "markdown",
   "metadata": {},
   "source": [
    "### Wrapping up the feature engineering\n",
    "So, to wrap up our feature engineering effort we select all the variables we are interested in to a new dataset, and remove any remaining NAs. We also store the result so you can easily download it..."
   ]
  },
  {
   "cell_type": "code",
   "execution_count": 24,
   "metadata": {},
   "outputs": [
    {
     "name": "stdout",
     "output_type": "stream",
     "text": [
      "(51730, 22)\n"
     ]
    }
   ],
   "source": [
    "# Subset\n",
    "data = df[['salary', 'f_open', 'f_employed', 'f_selfemployed', 'f_unemployed','f_education', 'f_organization', 'f_datascientist', 'f_designer', 'f_developer', 'f_devops', 'f_engineer', 'f_scientist', 'f_years', 'f_yearspro', 'f_ambition', 'f_python', 'f_r', 'f_age', 'f_female', 'f_male', 'f_other']]\n",
    "\n",
    "# Drop any remaining NAs:\n",
    "data = data.dropna()\n",
    "\n",
    "# Check size:\n",
    "print(data.shape)"
   ]
  },
  {
   "cell_type": "code",
   "execution_count": 25,
   "metadata": {},
   "outputs": [],
   "source": [
    "# Store:\n",
    "data.to_csv('data/salary_survey.csv')"
   ]
  },
  {
   "cell_type": "markdown",
   "metadata": {},
   "source": [
    "## Modeling, yay!\n",
    "Finally, after all the cleaning, we can fit a model. We wont be doing a lot of model selection or evaluation, so the code is relatively simple. We start with the [elastic net](https://web.stanford.edu/~hastie/Papers/elasticnet.pdf) available in `sklearn` which often works well out-of-the-box."
   ]
  },
  {
   "cell_type": "code",
   "execution_count": 26,
   "metadata": {},
   "outputs": [],
   "source": [
    "# imports\n",
    "import numpy as np\n",
    "from sklearn import linear_model"
   ]
  },
  {
   "cell_type": "code",
   "execution_count": 27,
   "metadata": {},
   "outputs": [],
   "source": [
    "# Create the inputs to the support vector regression:\n",
    "X = data.iloc[:,1:22].values.astype(float)\n",
    "y = data.iloc[:,0:1].values.astype(float).ravel()"
   ]
  },
  {
   "cell_type": "code",
   "execution_count": 28,
   "metadata": {},
   "outputs": [
    {
     "data": {
      "text/plain": [
       "ElasticNet(alpha=1.0, copy_X=True, fit_intercept=True, l1_ratio=0.5,\n",
       "           max_iter=1000, normalize=False, positive=False, precompute=False,\n",
       "           random_state=None, selection='cyclic', tol=0.0001, warm_start=False)"
      ]
     },
     "execution_count": 28,
     "metadata": {},
     "output_type": "execute_result"
    }
   ],
   "source": [
    "# Fit a model (this actually takes a bit of time...):\n",
    "\n",
    "mod = linear_model.ElasticNet()  # Instantiate the model\n",
    "mod.fit(X, y)  # Fit the model"
   ]
  },
  {
   "cell_type": "code",
   "execution_count": 29,
   "metadata": {},
   "outputs": [
    {
     "name": "stdout",
     "output_type": "stream",
     "text": [
      "119858.62570869787\n"
     ]
    }
   ],
   "source": [
    "# Lets check the - within sample - error:\n",
    "from sklearn.metrics import mean_squared_error\n",
    "from math import sqrt\n",
    "\n",
    "# predictions\n",
    "ypred = mod.predict(X)\n",
    "\n",
    "rms = sqrt(mean_squared_error(y, ypred))\n",
    "print(rms)"
   ]
  },
  {
   "cell_type": "code",
   "execution_count": 30,
   "metadata": {},
   "outputs": [
    {
     "data": {
      "text/plain": [
       "0.0440630690002749"
      ]
     },
     "execution_count": 30,
     "metadata": {},
     "output_type": "execute_result"
    }
   ],
   "source": [
    "# And the score\n",
    "mod.score(X,y)"
   ]
  },
  {
   "cell_type": "markdown",
   "metadata": {},
   "source": [
    "Ok, so that actually sucks... the performance is very poor. While this doesn't really matter for our [Scailable](https://www.scailable.net) demonstration, this is so poor we quickly try another model. Let's look at [gradient boosting](http://cran.fhcrc.org/web/packages/xgboost/vignettes/xgboost.pdf) in the `xgboost` package."
   ]
  },
  {
   "cell_type": "code",
   "execution_count": 31,
   "metadata": {},
   "outputs": [],
   "source": [
    "# !pip3 install xgboost\n",
    "from xgboost import XGBRegressor  # Import xgboost regression"
   ]
  },
  {
   "cell_type": "code",
   "execution_count": 32,
   "metadata": {},
   "outputs": [
    {
     "data": {
      "text/plain": [
       "XGBRegressor(base_score=0.5, booster=None, colsample_bylevel=1,\n",
       "             colsample_bynode=1, colsample_bytree=1, gamma=0, gpu_id=-1,\n",
       "             importance_type='gain', interaction_constraints=None,\n",
       "             learning_rate=0.300000012, max_delta_step=0, max_depth=6,\n",
       "             min_child_weight=1, missing=nan, monotone_constraints=None,\n",
       "             n_estimators=100, n_jobs=0, num_parallel_tree=1,\n",
       "             objective='reg:squarederror', random_state=0, reg_alpha=0,\n",
       "             reg_lambda=1, scale_pos_weight=1, subsample=1, tree_method=None,\n",
       "             validate_parameters=False, verbosity=None)"
      ]
     },
     "execution_count": 32,
     "metadata": {},
     "output_type": "execute_result"
    }
   ],
   "source": [
    "mod2 = XGBRegressor()  # Instantiate the model\n",
    "mod2.fit(X, y)  # Fit the model"
   ]
  },
  {
   "cell_type": "code",
   "execution_count": 33,
   "metadata": {},
   "outputs": [
    {
     "name": "stdout",
     "output_type": "stream",
     "text": [
      "111347.84806539383\n"
     ]
    }
   ],
   "source": [
    "# predictions\n",
    "ypred = mod2.predict(X)\n",
    "\n",
    "rms = sqrt(mean_squared_error(y, ypred))\n",
    "print(rms)"
   ]
  },
  {
   "cell_type": "code",
   "execution_count": 34,
   "metadata": {},
   "outputs": [
    {
     "data": {
      "text/plain": [
       "0.17499931543584035"
      ]
     },
     "execution_count": 34,
     "metadata": {},
     "output_type": "execute_result"
    }
   ],
   "source": [
    "# And the score\n",
    "mod2.score(X,y)"
   ]
  },
  {
   "cell_type": "markdown",
   "metadata": {},
   "source": [
    "> So the performance of this model is still pretty poor; it should be relatively easy to improve. However, we move on to deployment anyway."
   ]
  },
  {
   "cell_type": "markdown",
   "metadata": {},
   "source": [
    "# Uploading to scailable"
   ]
  },
  {
   "cell_type": "code",
   "execution_count": 35,
   "metadata": {},
   "outputs": [
    {
     "name": "stdout",
     "output_type": "stream",
     "text": [
      "Found existing installation: sclblpy 0.1.3\r\n",
      "Uninstalling sclblpy-0.1.3:\r\n",
      "  Successfully uninstalled sclblpy-0.1.3\r\n"
     ]
    }
   ],
   "source": [
    "!pip3 uninstall sclblpy --yes"
   ]
  },
  {
   "cell_type": "code",
   "execution_count": 36,
   "metadata": {},
   "outputs": [
    {
     "name": "stdout",
     "output_type": "stream",
     "text": [
      "Collecting sclblpy\n",
      "  Using cached sclblpy-0.1.3-py3-none-any.whl (25 kB)\n",
      "Requirement already satisfied: requests in /usr/local/lib/python3.7/site-packages (from sclblpy) (2.23.0)\n",
      "Requirement already satisfied: sklearn in /usr/local/lib/python3.7/site-packages (from sclblpy) (0.0)\n",
      "Requirement already satisfied: uuid in /usr/local/lib/python3.7/site-packages (from sclblpy) (1.30)\n",
      "Requirement already satisfied: numpy in /usr/local/lib/python3.7/site-packages (from sclblpy) (1.18.2)\n",
      "Requirement already satisfied: chardet<4,>=3.0.2 in /usr/local/lib/python3.7/site-packages (from requests->sclblpy) (3.0.4)\n",
      "Requirement already satisfied: certifi>=2017.4.17 in /usr/local/lib/python3.7/site-packages (from requests->sclblpy) (2019.11.28)\n",
      "Requirement already satisfied: idna<3,>=2.5 in /usr/local/lib/python3.7/site-packages (from requests->sclblpy) (2.9)\n",
      "Requirement already satisfied: urllib3!=1.25.0,!=1.25.1,<1.26,>=1.21.1 in /usr/local/lib/python3.7/site-packages (from requests->sclblpy) (1.25.8)\n",
      "Requirement already satisfied: scikit-learn in /usr/local/lib/python3.7/site-packages (from sklearn->sclblpy) (0.22.2.post1)\n",
      "Requirement already satisfied: scipy>=0.17.0 in /usr/local/lib/python3.7/site-packages (from scikit-learn->sklearn->sclblpy) (1.4.1)\n",
      "Requirement already satisfied: joblib>=0.11 in /usr/local/lib/python3.7/site-packages (from scikit-learn->sklearn->sclblpy) (0.14.1)\n",
      "Installing collected packages: sclblpy\n",
      "Successfully installed sclblpy-0.1.3\n"
     ]
    }
   ],
   "source": [
    "!pip3 install sclblpy"
   ]
  },
  {
   "cell_type": "code",
   "execution_count": 37,
   "metadata": {},
   "outputs": [
    {
     "name": "stdout",
     "output_type": "stream",
     "text": [
      "[ 0.  1.  0.  0.  1.  0.  0.  1.  1.  0.  0.  0.  3.  1.  0.  0.  0. 28.\n",
      "  0.  1.  0.]\n"
     ]
    }
   ],
   "source": [
    "# Lets get the first row as an example feature vector\n",
    "fv = X[0, :]\n",
    "print(fv)"
   ]
  },
  {
   "cell_type": "code",
   "execution_count": 38,
   "metadata": {},
   "outputs": [],
   "source": [
    "# Next, lets prepare our documentation:\n",
    "with open('salary-model-docs.md', 'r') as myfile:\n",
    "  docbody = myfile.read()\n",
    "\n",
    "docs = {}\n",
    "docs['name'] = \"DEMO :: Salary example model\"\n",
    "docs['documentation'] = docbody"
   ]
  },
  {
   "cell_type": "code",
   "execution_count": 40,
   "metadata": {},
   "outputs": [
    {
     "name": "stdout",
     "output_type": "stream",
     "text": [
      "Please provide your username: maurits@mauritskaptein.com\n",
      "Please type your password: ········\n",
      "Would you like us to store your user credentials (y/n)? y\n",
      "Your model was successfully uploaded. \n",
      "\n"
     ]
    },
    {
     "data": {
      "text/plain": [
       "True"
      ]
     },
     "execution_count": 40,
     "metadata": {},
     "output_type": "execute_result"
    }
   ],
   "source": [
    "import sclblpy as sp\n",
    "sp.upload(mod2, fv, docs=docs)"
   ]
  },
  {
   "cell_type": "markdown",
   "metadata": {},
   "source": [
    "... And now we receive an email confirming the fact that our `xgboost` model was transpiled to WebAssembly. We will continue this demo by looking again at the web admin for scailable. Check out the steps [here](https://github.com/scailable/sclbl-tutorials/tree/master/sclbl-101-getting-started#confirmation-email). Also, you can find a nice UI for this deployed model at [www.scailable.net/demo/salary](https://www.scailable.net/demo/salary)."
   ]
  },
  {
   "cell_type": "code",
   "execution_count": null,
   "metadata": {},
   "outputs": [],
   "source": []
  }
 ],
 "metadata": {
  "kernelspec": {
   "display_name": "Python 3",
   "language": "python",
   "name": "python3"
  },
  "language_info": {
   "codemirror_mode": {
    "name": "ipython",
    "version": 3
   },
   "file_extension": ".py",
   "mimetype": "text/x-python",
   "name": "python",
   "nbconvert_exporter": "python",
   "pygments_lexer": "ipython3",
   "version": "3.7.5"
  }
 },
 "nbformat": 4,
 "nbformat_minor": 4
}
